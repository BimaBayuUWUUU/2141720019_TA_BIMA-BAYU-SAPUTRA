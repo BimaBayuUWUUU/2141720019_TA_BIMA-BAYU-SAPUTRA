{
 "cells": [
  {
   "cell_type": "code",
   "execution_count": 1,
   "metadata": {},
   "outputs": [],
   "source": [
    "import os\n",
    "import pandas as pd\n",
    "import re"
   ]
  },
  {
   "cell_type": "code",
   "execution_count": 2,
   "metadata": {},
   "outputs": [],
   "source": [
    "# Ganti dengan folder tempat file Anda berada\n",
    "folder_path = \"..\\Data Arduino 4 treatment\""
   ]
  },
  {
   "cell_type": "code",
   "execution_count": null,
   "metadata": {},
   "outputs": [],
   "source": [
    "# Fungsi untuk mengekstrak nilai R, G, B, dan IR dalam bentuk persentase dari teks\n",
    "def extract_values(text):\n",
    "    # Ekspresi reguler untuk mencocokkan nilai R, G, B, dan IR dalam format: R= xxx G= xxx B= xxx xx %\n",
    "    match = re.match(r\"R=\\s*(\\d+\\.?\\d*)\\s*G=\\s*(\\d+\\.?\\d*)\\s*B=\\s*(\\d+\\.?\\d*)\\s*(\\d+)\\s*%\", text)\n",
    "    if match:\n",
    "        r, g, b, ir = match.groups()\n",
    "        return float(r), float(g), float(b), int(ir)\n",
    "    return None, None, None, None  # Mengembalikan None jika format tidak cocok\n",
    "\n",
    "# Daftar untuk menyimpan data yang sudah diproses dari semua file\n",
    "all_data = []\n",
    "\n",
    "# Memproses setiap file Excel dalam folder\n",
    "for filename in os.listdir(folder_path):\n",
    "    if filename.endswith('.xlsx'):  # Hanya memproses file dengan ekstensi .xlsx\n",
    "        file_path = os.path.join(folder_path, filename)\n",
    "        \n",
    "        # Membaca file Excel, dengan asumsi data berada di lembar pertama\n",
    "        df = pd.read_excel(file_path, header=None)  # Tidak ada header di file\n",
    "        \n",
    "        # Menerapkan fungsi ekstraksi ke setiap baris pada kolom pertama (sesuaikan indeks jika perlu)\n",
    "        df[['R', 'G', 'B', 'IR_Intensity (%)']] = df[0].apply(lambda x: pd.Series(extract_values(x)))\n",
    "        \n",
    "        # Mengekstrak informasi perlakuan dan pengambilan dari nama file\n",
    "        perlakuan, pengambilan = filename[2:3], filename[3:4]\n",
    "        \n",
    "        # Menambahkan kolom untuk perlakuan dan pengambilan\n",
    "        df['Perlakuan'] = perlakuan\n",
    "        df['Pengambilan'] = pengambilan\n",
    "        \n",
    "        # Menghapus kolom teks asli\n",
    "        df.drop(0, axis=1, inplace=True)\n",
    "        \n",
    "        # Menambahkan DataFrame yang sudah diproses ke dalam daftar\n",
    "        all_data.append(df)\n",
    "\n",
    "# Menggabungkan semua data menjadi satu DataFrame\n",
    "final_df = pd.concat(all_data, ignore_index=True)\n",
    "\n",
    "# Menampilkan hasil DataFrame\n",
    "final_df"
   ]
  },
  {
   "cell_type": "code",
   "execution_count": null,
   "metadata": {},
   "outputs": [],
   "source": [
    "# # Simpan ke file Excel\n",
    "# final_df.to_excel(\"fixed_formatData.xlsx\", index=False)"
   ]
  }
 ],
 "metadata": {
  "kernelspec": {
   "display_name": "tf",
   "language": "python",
   "name": "python3"
  },
  "language_info": {
   "codemirror_mode": {
    "name": "ipython",
    "version": 3
   },
   "file_extension": ".py",
   "mimetype": "text/x-python",
   "name": "python",
   "nbconvert_exporter": "python",
   "pygments_lexer": "ipython3",
   "version": "3.9.18"
  }
 },
 "nbformat": 4,
 "nbformat_minor": 2
}
